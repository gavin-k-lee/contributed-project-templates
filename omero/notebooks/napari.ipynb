{
 "cells": [
  {
   "cell_type": "markdown",
   "metadata": {},
   "source": [
    "## Napari setup\n",
    "\n",
    "0. Start the VNC from the launcher. The link should open in a different window.\n",
    "\n",
    "1. Run the first cell below and wait for QT to be initialised before running the following cells. Run all cells will not work.\n",
    "\n",
    "2. Run the napari import cell. You should see the image in the VNC."
   ]
  },
  {
   "cell_type": "code",
   "execution_count": 1,
   "metadata": {},
   "outputs": [],
   "source": [
    "# Step 1: run the first cell and wait for QT to be initialised before running the following cells. \n",
    "\n",
    "# Use the novnc Desktop in the other window\n",
    "import os\n",
    "os.environ['DISPLAY'] = ':1.0'\n",
    "# instantiate Qt GUI\n",
    "%gui qt5"
   ]
  },
  {
   "cell_type": "code",
   "execution_count": 2,
   "metadata": {},
   "outputs": [],
   "source": [
    "# Step 2: run napari and see the output in the other window\n",
    "\n",
    "import napari\n",
    "from skimage.data import astronaut\n",
    "\n",
    "# create the viewer on the Desktop and display the image\n",
    "viewer = napari.view_image(astronaut(), rgb=True)"
   ]
  }
 ],
 "metadata": {
  "kernelspec": {
   "display_name": "Python 3",
   "language": "python",
   "name": "python3"
  },
  "language_info": {
   "codemirror_mode": {
    "name": "ipython",
    "version": 3
   },
   "file_extension": ".py",
   "mimetype": "text/x-python",
   "name": "python",
   "nbconvert_exporter": "python",
   "pygments_lexer": "ipython3",
   "version": "3.8.5"
  }
 },
 "nbformat": 4,
 "nbformat_minor": 4
}
