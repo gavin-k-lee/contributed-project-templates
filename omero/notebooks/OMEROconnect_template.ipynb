{
 "cells": [
  {
   "cell_type": "markdown",
   "metadata": {},
   "source": [
    "# Connect to OMERO with Templated Variables"
   ]
  },
  {
   "cell_type": "code",
   "execution_count": null,
   "metadata": {},
   "outputs": [],
   "source": [
    "import omero.clients\n",
    "from omero.gateway import BlitzGateway\n",
    "\n",
    "import matplotlib.pyplot as plt\n",
    "import ipywidgets as widgets"
   ]
  },
  {
   "cell_type": "code",
   "execution_count": null,
   "metadata": {},
   "outputs": [],
   "source": [
    "import pprint #pourquoi?\n",
    "from getpass import getpass\n",
    "hostname = {% if omero_hostname %} {{ omero_hostname }} {% else %} \"omero.epfl.ch\" {% endif %}\n",
    "hostport = {% if omero_hostport %} {{ omero_hostport }} {% else %} 4064 {% endif %}\n",
    "username = {% if omero_username %} {{ omero_username }} {% else %} input(\"Username: \") {% endif %} \n",
    "conn = BlitzGateway(\n",
    "    username, getpass(\"OMERO Password: \"),\n",
    "    host=hostname, port=hostport, secure=True)\n",
    "conn.connect()  "
   ]
  },
  {
   "cell_type": "markdown",
   "metadata": {},
   "source": [
    "# Choose your group, project and dataset of interest"
   ]
  },
  {
   "cell_type": "code",
   "execution_count": 47,
   "metadata": {},
   "outputs": [
    {
     "name": "stdout",
     "output_type": "stream",
     "text": [
      "[('system', 0), ('ptbiop', 253), ('public-data', 305), ('OMERO parade (public)', 304), ('BIOP Public', 403)]\n"
     ]
    }
   ],
   "source": [
    "group_list = []\n",
    "for g in conn.getGroupsMemberOf():\n",
    "    group_list = group_list + [(g.getName(), g.getId())]\n",
    "    \n",
    "print(group_list)"
   ]
  },
  {
   "cell_type": "code",
   "execution_count": 52,
   "metadata": {},
   "outputs": [
    {
     "data": {
      "application/vnd.jupyter.widget-view+json": {
       "model_id": "3f36268173114a8a8036d0cee489a96a",
       "version_major": 2,
       "version_minor": 0
      },
      "text/plain": [
       "Dropdown(description='Group:', index=1, options=(('system', 0), ('ptbiop', 253), ('public-data', 305), ('OMERO…"
      ]
     },
     "metadata": {},
     "output_type": "display_data"
    }
   ],
   "source": [
    "defaultgroup = conn.getGroupFromContext()\n",
    "groupdropdwn = widgets.Dropdown(\n",
    "    options = group_list,\n",
    "    value = defaultgroup.getId(),\n",
    "    description='Group:',\n",
    ")\n",
    "display(groupdropdwn)"
   ]
  },
  {
   "cell_type": "code",
   "execution_count": 54,
   "metadata": {},
   "outputs": [
    {
     "name": "stdout",
     "output_type": "stream",
     "text": [
      "305\n",
      "[('Baptiste data', 1051), ('BigDataViewerTest', 756), ('BIOP Microscopes', 567), ('Demo Project', 467), ('HDF5 test', 602), ('IDR0021', 527), ('Margaux Duchamp vsi', 579), ('MetaMorph Stack (STK)', 758), ('Operetta Archive test', 604), ('Qupath test', 538), ('Test_3D', 524), ('Tiff Virtual Stack', 1004)]\n"
     ]
    }
   ],
   "source": [
    "my_exp_id = conn.getUser().getId()\n",
    "project_list=[]\n",
    "#can remove 'owner': my_exp_id 'group': groupdropdwn.value,\n",
    "print(groupdropdwn.value)\n",
    "for project in conn.getObjects(\"Project\", opts={'owner': my_exp_id,\n",
    "                                            'order_by': 'lower(obj.name)', 'offset': 0}):\n",
    "   \n",
    "    project_list = project_list + [(project.getName(),project.getId())]\n",
    "print(project_list)"
   ]
  },
  {
   "cell_type": "code",
   "execution_count": 40,
   "metadata": {},
   "outputs": [
    {
     "data": {
      "application/vnd.jupyter.widget-view+json": {
       "model_id": "58f01f48461f480daa935b6973818e90",
       "version_major": 2,
       "version_minor": 0
      },
      "text/plain": [
       "Dropdown(description='Project:', options=(('Baptiste data', 1051), ('BigDataViewerTest', 756), ('BIOP Microsco…"
      ]
     },
     "metadata": {},
     "output_type": "display_data"
    }
   ],
   "source": [
    "projectdropdwn = widgets.Dropdown(\n",
    "    options = project_list,\n",
    "    description='Project:',\n",
    ")\n",
    "display(projectdropdwn)"
   ]
  },
  {
   "cell_type": "code",
   "execution_count": 7,
   "metadata": {},
   "outputs": [],
   "source": [
    "dataset_list=[]\n",
    "project = conn.getObject(\"Project\", projectdropdwn.value)\n",
    "    # We can get Datasets with listChildren, since we have the Project already.\n",
    "    # Or conn.getObjects(\"Dataset\", opts={'project', id}) if we have Project ID\n",
    "for dataset in project.listChildren():\n",
    "    dataset_list=dataset_list + [(dataset.getName(),dataset.getId())]"
   ]
  },
  {
   "cell_type": "code",
   "execution_count": 8,
   "metadata": {},
   "outputs": [
    {
     "data": {
      "application/vnd.jupyter.widget-view+json": {
       "model_id": "8eb215c09a6e469491ec75fcb2236332",
       "version_major": 2,
       "version_minor": 0
      },
      "text/plain": [
       "Dropdown(description='Dataset:', options=(('CEP120', 735), ('CEP152', 736), ('CEP192-M', 737), ('CPAP', 738), …"
      ]
     },
     "metadata": {},
     "output_type": "display_data"
    }
   ],
   "source": [
    "datasetdropdwn = widgets.Dropdown(\n",
    "    options = dataset_list,\n",
    "    description='Dataset:',\n",
    ")\n",
    "display(datasetdropdwn)"
   ]
  },
  {
   "cell_type": "code",
   "execution_count": 9,
   "metadata": {},
   "outputs": [],
   "source": [
    "imageIDlist = []\n",
    "for image in conn.getObjects('Image', opts={'dataset': datasetdropdwn.value}):\n",
    "    imageIDlist = imageIDlist + [image.getId()]\n"
   ]
  },
  {
   "cell_type": "code",
   "execution_count": 10,
   "metadata": {},
   "outputs": [],
   "source": [
    "def display_image(imageID):\n",
    "    image = conn.getObject(\"Image\", imageID)\n",
    "    z = 0\n",
    "    t = 0\n",
    "    renderedImage = image.renderImage(z, t)\n",
    "    fig = plt.figure()\n",
    "    plt.imshow(renderedImage)"
   ]
  },
  {
   "cell_type": "code",
   "execution_count": 11,
   "metadata": {},
   "outputs": [
    {
     "data": {
      "application/vnd.jupyter.widget-view+json": {
       "model_id": "90a6785501e64e0083016a96ca528089",
       "version_major": 2,
       "version_minor": 0
      },
      "text/plain": [
       "SelectionSlider(continuous_update=False, description='Image ID', options=(5872, 5871, 5870, 5869, 5868, 5867, …"
      ]
     },
     "metadata": {},
     "output_type": "display_data"
    },
    {
     "data": {
      "application/vnd.jupyter.widget-view+json": {
       "model_id": "da18d4326c574dffaebbf157b1769739",
       "version_major": 2,
       "version_minor": 0
      },
      "text/plain": [
       "Output()"
      ]
     },
     "metadata": {},
     "output_type": "display_data"
    }
   ],
   "source": [
    "a = widgets.SelectionSlider(\n",
    "    options=imageIDlist,\n",
    "    description='Image ID',\n",
    "    disabled=False,\n",
    "    continuous_update=False,\n",
    "    orientation='horizontal',\n",
    "    readout=True\n",
    ")\n",
    "\n",
    "out = widgets.interactive_output(display_image, {'imageID': a})\n",
    "\n",
    "display(a, out)\n"
   ]
  },
  {
   "cell_type": "code",
   "execution_count": 195,
   "metadata": {},
   "outputs": [],
   "source": []
  },
  {
   "cell_type": "code",
   "execution_count": null,
   "metadata": {},
   "outputs": [],
   "source": []
  },
  {
   "cell_type": "code",
   "execution_count": null,
   "metadata": {},
   "outputs": [],
   "source": []
  },
  {
   "cell_type": "code",
   "execution_count": null,
   "metadata": {},
   "outputs": [],
   "source": [
    "\n"
   ]
  },
  {
   "cell_type": "code",
   "execution_count": null,
   "metadata": {},
   "outputs": [],
   "source": [
    "\n",
    "    "
   ]
  },
  {
   "cell_type": "code",
   "execution_count": null,
   "metadata": {},
   "outputs": [],
   "source": [
    "\n"
   ]
  },
  {
   "cell_type": "code",
   "execution_count": null,
   "metadata": {},
   "outputs": [],
   "source": []
  }
 ],
 "metadata": {
  "kernelspec": {
   "display_name": "Python 3",
   "language": "python",
   "name": "python3"
  },
  "language_info": {
   "codemirror_mode": {
    "name": "ipython",
    "version": 3
   },
   "file_extension": ".py",
   "mimetype": "text/x-python",
   "name": "python",
   "nbconvert_exporter": "python",
   "pygments_lexer": "ipython3",
   "version": "3.8.5"
  }
 },
 "nbformat": 4,
 "nbformat_minor": 4
}
