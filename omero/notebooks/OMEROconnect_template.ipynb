{
 "cells": [
  {
   "cell_type": "markdown",
   "metadata": {},
   "source": [
    "# Connect to OMERO with Templated Variables using omero-py"
   ]
  },
  {
   "cell_type": "code",
   "execution_count": null,
   "metadata": {},
   "outputs": [],
   "source": [
    "import omero.clients\n",
    "from omero.gateway import BlitzGateway\n",
    "\n",
    "import matplotlib.pyplot as plt\n",
    "import ipywidgets as widgets"
   ]
  },
  {
   "cell_type": "code",
   "execution_count": null,
   "metadata": {},
   "outputs": [],
   "source": [
    "import pprint #pourquoi?\n",
    "from getpass import getpass\n",
    "hostname = {% if omero_hostname %} '{{ omero_hostname }}' {% else %} 'omero.epfl.ch' {% endif %}\n",
    "hostport = {% if omero_hostport %} {{ omero_hostport }} {% else %} 4064 {% endif %}\n",
    "username = {% if omero_username %} '{{ omero_username }}' {% else %} input(\"Username: \") {% endif %} \n",
    "conn = BlitzGateway(\n",
    "    username, getpass(\"OMERO Password: \"),\n",
    "    host=hostname, port=hostport, secure=True)\n",
    "conn.connect()  "
   ]
  },
  {
   "cell_type": "code",
   "execution_count": null,
   "metadata": {},
   "outputs": [],
   "source": [
    "conn.close() "
   ]
  },
  {
   "cell_type": "markdown",
   "metadata": {},
   "source": [
    "# Connect to OMERO with Templated Variables using ezomero"
   ]
  },
  {
   "cell_type": "code",
   "execution_count": null,
   "metadata": {},
   "outputs": [],
   "source": [
    "import ezomero"
   ]
  },
  {
   "cell_type": "code",
   "execution_count": null,
   "metadata": {},
   "outputs": [],
   "source": [
    "conn = ezomero.connect(user = {% if omero_username %} '{{ omero_username }}' {% else %} input(\"Username: \") {% endif %} , \n",
    "                       password = getpass(\"OMERO Password: \"), \n",
    "                       group = \"\",\n",
    "                       host = {% if omero_hostname %} '{{ omero_hostname }}' {% else %} 'omero.epfl.ch' {% endif %}, \n",
    "                       port = {% if omero_hostport %} {{ omero_hostport }} {% else %} 4064 {% endif %}, \n",
    "                       secure = True, \n",
    "                       config_path = None)\n",
    "\n",
    "print(conn)"
   ]
  },
  {
   "cell_type": "code",
   "execution_count": null,
   "metadata": {},
   "outputs": [],
   "source": [
    "conn.close()"
   ]
  }
 ],
 "metadata": {
  "kernelspec": {
   "display_name": "Python 3",
   "language": "python",
   "name": "python3"
  },
  "language_info": {
   "codemirror_mode": {
    "name": "ipython",
    "version": 3
   },
   "file_extension": ".py",
   "mimetype": "text/x-python",
   "name": "python",
   "nbconvert_exporter": "python",
   "pygments_lexer": "ipython3",
   "version": "3.8.5"
  }
 },
 "nbformat": 4,
 "nbformat_minor": 4
}
